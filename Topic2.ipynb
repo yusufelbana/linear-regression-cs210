{
 "cells": [
  {
   "cell_type": "markdown",
   "metadata": {},
   "source": [
    "# **Basic Data Science Projects using Python, NumPy, Pandas, Matplotlib, Regular Expressions, and SQL**"
   ]
  },
  {
   "cell_type": "markdown",
   "metadata": {},
   "source": [
    "<center>\n",
    "\n",
    "*By: Prof. James Abello, Haoyang Zhang*\n",
    "\n",
    "*Computer Science Department*\n",
    "\n",
    "*Rutgers University*\n",
    "\n",
    "*Nov. 21, 2024.*\n",
    "\n",
    "</center>"
   ]
  },
  {
   "cell_type": "markdown",
   "metadata": {},
   "source": [
    "## Topic 2: Linear Regression (np, matplotlib)"
   ]
  },
  {
   "cell_type": "markdown",
   "metadata": {},
   "source": [
    "#### **Objective:** Identify how well a linear regression line fits labor force participation rates between males and females. [World Bank data](https://www.worldbank.org/ext/en/home)\n",
    "\n",
    "#### **Estimated Completion Time: 6 hours**\n",
    "\n",
    "Linear regression is a widely used method for modeling the relationship between an output variable and one or more input variables.\n",
    "\n",
    "In this project, we will focus on identifying the factors that influence the difference in labor force participation rates between males and females using the [World Bank data](https://www.worldbank.org/ext/en/home).\n",
    "\n",
    "> A collection of good references of Introduction to Linear Regression is available at:\n",
    ">\n",
    "> - Statistics 101: Linear Regression, The Very Basics by Brandon Foltz: https://www.youtube.com/watch?v=ZkjP5RJLQF4\n",
    "> - Statistics 101: Statistics 101: Linear Regression, Algebra, Equations, and Patterns: https://www.youtube.com/watch?v=iAgYLRy7e20\n",
    "> - Statistics 101: Linear Regression, The Least Squares Method: https://www.youtube.com/watch?v=Qa2APhWjQPc\n",
    "> - Statistics 101: Linear Regression, Fit and Coefficient of Determination: https://www.youtube.com/watch?v=kHZBy1uVNnM"
   ]
  },
  {
   "cell_type": "markdown",
   "metadata": {},
   "source": [
    "### Tasks"
   ]
  },
  {
   "cell_type": "markdown",
   "metadata": {},
   "source": [
    "#### Level 1"
   ]
  },
  {
   "cell_type": "markdown",
   "metadata": {},
   "source": [
    "In this level, we will examine whether and to what extent a country's GDP per capita is related to the difference between male and female labor force participation rates."
   ]
  },
  {
   "cell_type": "markdown",
   "metadata": {},
   "source": [
    "##### Task 1.1"
   ]
  },
  {
   "cell_type": "markdown",
   "metadata": {},
   "source": [
    "Write a Python function `get_data_1()` that retrieves the following data for each country/territory from the World Bank API:\n",
    "- GDP per capita (current US$) (NY.GDP.PCAP.CD)\n",
    "- Labor force participation rate, male (% of male population ages 15+) (modeled ILO estimate) (SL.TLF.CACT.MA.ZS)\n",
    "- Labor force participation rate, female (% of female population ages 15+) (modeled ILO estimate) (SL.TLF.CACT.FE.ZS)\n",
    "\n",
    "The link to the World Bank API is:\n",
    "```python\n",
    "f\"https://api.worldbank.org/v2/country/{country_code}/indicator/NY.GDP.PCAP.CD?format=json&per_page=5000\"\n",
    "f\"https://api.worldbank.org/v2/country/{country_code}/indicator/SL.TLF.CACT.MA.ZS?format=json&per_page=5000\"\n",
    "f\"https://api.worldbank.org/v2/country/{country_code}/indicator/SL.TLF.CACT.FE.ZS?format=json&per_page=5000\"\n",
    "```\n",
    "where `country_code` is a three-letter code for each country/territory, and you can find all of them at https://api.worldbank.org/v2/country?format=json&per_page=5000 with the key `id`."
   ]
  },
  {
   "cell_type": "markdown",
   "metadata": {},
   "source": [
    "```python\n",
    "def get_data_1():\n",
    "    \"\"\"\n",
    "    Retrieve the GDP per capita, labor force participation rate of each country/territory\n",
    "    IN: None\n",
    "    OUT: DataFrame, data of GDP per capita, labor force participation rate of each country/territory\n",
    "    \"\"\"\n",
    "    pass\n",
    "```"
   ]
  },
  {
   "cell_type": "code",
   "execution_count": null,
   "metadata": {},
   "outputs": [],
   "source": [
    "#libraries used\n",
    "import requests\n",
    "import json \n",
    "import pandas as pd\n",
    "import time\n",
    "from mysql.connector import connect, Error\n",
    "#%matplotlib ipympl (for grader if you'd like to use interactive graphs, however it causes errors in the notebook issues on github)\n",
    "from matplotlib import pyplot as plt\n",
    "import numpy as np\n",
    "import tkinter as tk\n"
   ]
  },
  {
   "cell_type": "code",
   "execution_count": null,
   "metadata": {},
   "outputs": [],
   "source": [
    "def req_helper(url):\n",
    "    '''\n",
    "    IN:\n",
    "        url: str, url to be fetched\n",
    "    OUT:\n",
    "        the list object returned by the fetch call\n",
    "    '''\n",
    "\n",
    "    #assertions\n",
    "    assert type(url) is str\n",
    "\n",
    "    res = requests.get(url)\n",
    "    obj = json.loads(res.text)\n",
    "    return obj[1]\n",
    "\n",
    "def get_all_countries():\n",
    "    '''\n",
    "    IN:\n",
    "        None\n",
    "    OUT:\n",
    "        list[tup()] : list of tuples of country (name,id) \n",
    "    '''\n",
    "    country_name_id = []\n",
    "    all_countries  = req_helper(\"https://api.worldbank.org/v2/country?format=json&per_page=5000\")\n",
    "    for obj in all_countries:\n",
    "        #make sure the obj has the keys\n",
    "        if obj.get(\"name\") and obj.get(\"id\"):\n",
    "            country_name_id.append((obj[\"name\"],obj[\"id\"]))\n",
    "    return country_name_id\n",
    "\n",
    "\n",
    "\n",
    "def get_data_1():\n",
    "    \"\"\"\n",
    "    Retrieve the GDP per capita, labor force participation rate of each country/territory\n",
    "    IN: None\n",
    "    OUT: DataFrame, data of GDP per capita, labor force participation rate of each country/territory\n",
    "    \"\"\"\n",
    "    #get all name and ids for country\n",
    "    country_name_id = get_all_countries()\n",
    "\n",
    "    data = {}\n",
    "    indicators = {\n",
    "                    \"NY.GDP.PCAP.CD\":\"gdp\",\n",
    "                    \"SL.TLF.CACT.MA.ZS\":\"ML\",\n",
    "                    \"SL.TLF.CACT.FE.ZS\":\"FL\"\n",
    "                 }\n",
    "    for j, (name,id)  in enumerate(country_name_id): #use the id to get gdp per capital \n",
    "        data[id] = [{\n",
    "            \"name\":name,\n",
    "             \"id\":id,\n",
    "             \"date\":None,\n",
    "             \"gdp\":None,\n",
    "             \"ML\":None,\n",
    "             \"FL\":None     \n",
    "        }]\n",
    "        #append to dictionary for each year for each country\n",
    "        for indicator,col in indicators.items():\n",
    "            country_data = req_helper(f\"https://api.worldbank.org/v2/country/{id}/indicator/{indicator}?format=json&per_page=5000\")\n",
    "            if country_data != None:\n",
    "                if len(data[id]) != len(country_data):\n",
    "                        data[id].extend([{\"name\":name,\"id\":id,\"date\":None,\"gdp\":None,\"ML\":None,\"FL\":None} for _ in range(len(country_data) - len(data[id]))])\n",
    "                for i,obj in enumerate(country_data):\n",
    "                    #make sure values exist\n",
    "                    if obj.get(\"date\") and data[id][i][\"date\"] == None:\n",
    "                        data[id][i][\"date\"] = obj[\"date\"]\n",
    "                    if obj.get(\"value\"):\n",
    "                        data[id][i][col] = obj[\"value\"]\n",
    "        #if j%10 == 0 : (for progress)\n",
    "        #    print(j)\n",
    "\n",
    "    #absolutely no data was found not surre if we should extend or delete the data entirely...(extending 4 now)\n",
    "    cp = data.copy()\n",
    "    length =  0\n",
    "    for id,list_of_dicts in list(cp.items()):\n",
    "        if len(list_of_dicts) > 1 and length ==0:\n",
    "            length = len(list_of_dicts)\n",
    "        if len(list_of_dicts) == 1:\n",
    "            data[id] *= length\n",
    "            \n",
    "    list_of_data = [d for l in list(data.values()) for d in l]\n",
    " \n",
    "    return pd.DataFrame(list_of_data)"
   ]
  },
  {
   "cell_type": "code",
   "execution_count": null,
   "metadata": {},
   "outputs": [],
   "source": [
    "#create global data variable takes ~3min\n",
    "df = get_data_1()"
   ]
  },
  {
   "cell_type": "markdown",
   "metadata": {},
   "source": [
    "##### Task 1.2"
   ]
  },
  {
   "cell_type": "markdown",
   "metadata": {},
   "source": [
    "Write a Python function `save_data_1()` that saves the data in a MySQL database. \n",
    "\n",
    "Your database should have the following tables:\n",
    "- `country` with the columns `name`, `code`\n",
    "- `gdp_per_capita` with the columns `country_code`, `year`, `value`\n",
    "- `labor_force_participation_rate` with the columns `country_code`, `year`, `male_value`, `female_value`"
   ]
  },
  {
   "cell_type": "markdown",
   "metadata": {},
   "source": [
    "```python\n",
    "def save_data_1(data, mydb, cursor, db_name):\n",
    "    \"\"\"\n",
    "    Save the data in a MySQL database\n",
    "    IN: data, DataFrame, data of GDP per capita, labor force participation rate of each country/territory\n",
    "        mydb, MySQL connection\n",
    "        cursor, MySQL cursor\n",
    "        db_name, str, name of the database\n",
    "    OUT: None\n",
    "    \"\"\"\n",
    "    pass\n",
    "```"
   ]
  },
  {
   "cell_type": "code",
   "execution_count": null,
   "metadata": {},
   "outputs": [],
   "source": [
    "WAIT_TIME = 10\n",
    "def connect_to_db(db_name):\n",
    "    \"\"\"\n",
    "    Connect to the database\n",
    "    IN: db_name, str, the name of the database in MySQL\n",
    "    OUT: mydb, the database connection\n",
    "    EXCEPTION: TimeoutError, if the database is not running\n",
    "    \"\"\"\n",
    "\n",
    "    #assertions\n",
    "    assert type(db_name) is str\n",
    "    \n",
    "    #try connecting 10 times then raise error if unable to connect\n",
    "    num_of_tries = 0\n",
    "    while num_of_tries < WAIT_TIME:\n",
    "        try:\n",
    "            mydb = connect(host=\"127.0.0.1\", user=\"root\", db=db_name)\n",
    "            if mydb.is_connected():\n",
    "                print(\"Connected\")\n",
    "                break\n",
    "        except Error as e:\n",
    "            print(e)\n",
    "\n",
    "        num_of_tries += 1\n",
    "        print(\"Waiting for MySQL to start\")\n",
    "        time.sleep(1)\n",
    "\n",
    "    if num_of_tries >= WAIT_TIME:\n",
    "        raise TimeoutError(\"MySQL is not running\")\n",
    "\n",
    "    return mydb\n"
   ]
  },
  {
   "cell_type": "code",
   "execution_count": null,
   "metadata": {},
   "outputs": [],
   "source": [
    "db_name = \"linreg\"\n",
    "mydb =  connect_to_db(db_name)\n",
    "cursor = mydb.cursor()"
   ]
  },
  {
   "cell_type": "code",
   "execution_count": null,
   "metadata": {},
   "outputs": [],
   "source": [
    "def create_tables_helper():\n",
    "    '''\n",
    "    IN:\n",
    "        None\n",
    "    OUT:\n",
    "        tup(stmnt1,stmnt2,stmnt3)\n",
    "    '''\n",
    "    #hopefully varchar 50 is enough?\n",
    "    #might not need a primary key\n",
    "    create_country = '''\n",
    "    create table country (\n",
    "    name varchar(100) not null,\n",
    "    code char(3) primary key \n",
    "    );\n",
    "    '''\n",
    "\n",
    "    #not sure if year should be year type or int,year can be null, AFR has no values\n",
    "    create_gdp_per_capita = '''\n",
    "    create table gdp_per_capita (\n",
    "    country_code char(3) not null,\n",
    "    year int,\n",
    "    value double,\n",
    "    foreign key (country_code) references country(code)\n",
    "    );\n",
    "    '''\n",
    "    #year can be null, AFR has no values\n",
    "    create_labor_force_participation_rate = '''\n",
    "    create table labor_force_participation_rate(\n",
    "    country_code char(3) not null,\n",
    "    year int , \n",
    "    male_value double,\n",
    "    female_value double,\n",
    "    foreign key (country_code) references country(code)\n",
    "    );\n",
    "    '''\n",
    "    return [create_country,create_gdp_per_capita,create_labor_force_participation_rate]\n",
    "\n",
    "#note our database name is provided in the cell above\n",
    "def save_data_1(data,mydb,cursor,db_name):\n",
    "    \"\"\"\n",
    "    Save the data in a MySQL database\n",
    "    IN: data, DataFrame, data of GDP per capita, labor force participation rate of each country/territory\n",
    "        mydb, MySQL connection\n",
    "        cursor, MySQL cursor\n",
    "        db_name, str, name of the database\n",
    "    OUT: None\n",
    "\n",
    "    `country` with the columns `name`, `code`\n",
    "    `gdp_per_capita` with the columns `country_code`, `year`, `value`\n",
    "    `labor_force_participation_rate` with the columns `country_code`, `year`, `male_value`, `female_value`\n",
    "    \n",
    "    \"\"\"\n",
    "\n",
    "    #assertions\n",
    "    assert type(data) is pd.DataFrame\n",
    "    assert type(db_name) is str \n",
    "   \n",
    "\n",
    "    #********HANDLES CREATION OF TABLES********#\n",
    "    create_statements =  create_tables_helper()\n",
    "    #give it a few seconds so the country table can  be made so the other tables can reference it, 5 secs might b overkill  but doenst matter.\n",
    "    for q in create_statements:\n",
    "        cursor.execute(q) \n",
    "        time.sleep(2)\n",
    "    #********HANDLES CREATION OF TABLES********#\n",
    "\n",
    "    #********HANDLES INSERTION INTO COUNTRY********#\n",
    "    unique_name_id = data[[\"name\",\"id\"]].drop_duplicates().values\n",
    "    for name,id in unique_name_id:\n",
    "        q= f'''\n",
    "        insert into country (name,code) values (\"{name}\",\"{id}\");\n",
    "        '''\n",
    "        cursor.execute(q) \n",
    "    #********HANDLES INSERTION INTO COUNTRY********#\n",
    "\n",
    "\n",
    "    #********HANDLES INSERTION INTO GDP_PER_CAPITA********#\n",
    "    filtered_df = data[[\"id\",\"date\",\"gdp\"]]\n",
    "    for _,row in filtered_df.iterrows():\n",
    "        q= f'''\n",
    "            insert into gdp_per_capita (country_code, year, value) values ('{row[\"id\"]}',{'null' if pd.isnull(row[\"date\"]) else row[\"date\"]},{'null' if pd.isnull(row[\"gdp\"]) else row[\"gdp\"]});\n",
    "            '''\n",
    "        cursor.execute(q)\n",
    "    #********HANDLES INSERTION INTO GDP_PER_CAPITA********#\n",
    "\n",
    "    #********HANDLES INSERTION INTO LABOR_FORCE_PARTICIPATION_RATE********#\n",
    "    filtered_df = data[[\"id\",\"date\",\"ML\",\"FL\"]]\n",
    "    for _,row in filtered_df.iterrows():\n",
    "            q = f\"\"\"\n",
    "            insert into labor_force_participation_rate (country_code, year, male_value,female_value) values ('{row[\"id\"]}',{'null' if pd.isnull(row[\"date\"]) else row[\"date\"]},{'null' if pd.isnull(row[\"ML\"]) else row[\"ML\"]}, {'null' if pd.isnull(row[\"FL\"]) else row[\"FL\"]});\n",
    "            \"\"\"\n",
    "            cursor.execute(q)\n",
    "    #********HANDLES INSERTION INTO LABOR_FORCE_PARTICIPATION_RATE********#\n",
    "\n",
    "    mydb.commit()\n",
    "\n"
   ]
  },
  {
   "cell_type": "code",
   "execution_count": null,
   "metadata": {},
   "outputs": [],
   "source": [
    "#check if it worked\n",
    "save_data_1(df,mydb,cursor,db_name=\"linreg\")\n"
   ]
  },
  {
   "cell_type": "markdown",
   "metadata": {},
   "source": [
    "##### Task 1.3"
   ]
  },
  {
   "cell_type": "markdown",
   "metadata": {},
   "source": [
    "Write a Python function `load_data_1()` that queries the data from the MySQL database.\n",
    "\n",
    "Your query should return a table with the columns `country_name`, `country_code`, `year`, `gdp_per_capita`, `difference_labor_force_participation_rate`.\n",
    "\n",
    "Note:\n",
    "\n",
    "- Records with missing data should be ignored.\n",
    "- The `difference_labor_force_participation_rate` should be calculated as `male_value` - `female_value`."
   ]
  },
  {
   "cell_type": "markdown",
   "metadata": {},
   "source": [
    "```python\n",
    "def load_data_1(mydb, cursor, db_name):\n",
    "    \"\"\"\n",
    "    Query the data from the MySQL database\n",
    "    IN: mydb, MySQL connection\n",
    "        cursor, MySQL cursor\n",
    "        db_name, str, name of the database\n",
    "    OUT: DataFrame, data of GDP per capita, labor force participation rate of each country/territory\n",
    "    \"\"\"\n",
    "    pass\n",
    "```"
   ]
  },
  {
   "cell_type": "code",
   "execution_count": null,
   "metadata": {},
   "outputs": [],
   "source": [
    "def load_data_1(mydb, cursor, db_name):\n",
    "    \"\"\"\n",
    "    Query the data from the MySQL database\n",
    "    IN: mydb, MySQL connection\n",
    "        cursor, MySQL cursor\n",
    "        db_name, str, name of the database\n",
    "    OUT: DataFrame, data of GDP per capita, labor force participation rate of each country/territory\n",
    "    `country` with the columns `name`, `code`\n",
    "    `gdp_per_capita` with the columns `country_code`, `year`, `value`\n",
    "    `labor_force_participation_rate` with the columns `country_code`, `year`, `male_value`, `female_value`\n",
    "    \"\"\"\n",
    "    #assertions\n",
    "    assert type(db_name) is str\n",
    "    \n",
    "    #join tables, and essentially grab rows in which no col value is null\n",
    "    q = f\"\"\"\n",
    "    select C.name, C.code, G.year, G.value, (L.male_value - L.female_value) as 'difference_labor_force_participation_rate' \n",
    "    from country C \n",
    "    inner join gdp_per_capita G on C.code = G.country_code\n",
    "    inner join labor_force_participation_rate L on C.code = L.country_code\n",
    "    where G.year is not null and \n",
    "    G.value is not null and \n",
    "    L.male_value is not null and \n",
    "    L.female_value is not null and\n",
    "    G.year = L.year\n",
    "    \"\"\"\n",
    "    cursor.execute(q)\n",
    "    res = cursor.fetchall()\n",
    "    data = []\n",
    "    for name,id,year,gdp,diff_m_f in res:\n",
    "        d ={\n",
    "            \"country_name\":name,\n",
    "            \"country_code\":id,\n",
    "            \"year\":year,\n",
    "            \"gdp_per_capita\":gdp,\n",
    "            \"difference_labor_force_participation_rate\":diff_m_f,\n",
    "        }\n",
    "        data.append(d)\n",
    "\n",
    "    cleaned_df = pd.DataFrame(data)\n",
    "    return cleaned_df\n"
   ]
  },
  {
   "cell_type": "code",
   "execution_count": null,
   "metadata": {},
   "outputs": [],
   "source": [
    "cleaned_df = load_data_1(mydb,cursor,db_name)"
   ]
  },
  {
   "cell_type": "markdown",
   "metadata": {},
   "source": [
    "##### Task 1.4"
   ]
  },
  {
   "cell_type": "markdown",
   "metadata": {},
   "source": [
    "Write a Python function `plot_data_1()` that visualizes the relationship between GDP per capita and the difference in labor force participation rates.\n",
    "\n",
    "- The x-axis should be the GDP per capita, and \n",
    "- The y-axis should be the difference of the labor force participation rate."
   ]
  },
  {
   "cell_type": "markdown",
   "metadata": {},
   "source": [
    "```python\n",
    "def plot_data_1(data):\n",
    "    \"\"\"\n",
    "    Visualize the relationship between GDP per capita and the difference in labor force participation rates\n",
    "    IN: data, DataFrame, data of GDP per capita, labor force participation rate of each country/territory\n",
    "    OUT: None\n",
    "    \"\"\"\n",
    "    pass\n",
    "```"
   ]
  },
  {
   "cell_type": "code",
   "execution_count": null,
   "metadata": {},
   "outputs": [],
   "source": [
    "def plot_data_1(data):\n",
    "    \"\"\"\n",
    "    Visualize the relationship between GDP per capita and the difference in labor force participation rates\n",
    "    IN: data, DataFrame, data of GDP per capita, labor force participation rate of each country/territory\n",
    "    OUT: None\n",
    "    \"\"\"\n",
    "\n",
    "    #assertions\n",
    "    assert type(data) is pd.DataFrame\n",
    "\n",
    "    #grab appropriate cols\n",
    "    x = data[\"gdp_per_capita\"]\n",
    "    y = data[\"difference_labor_force_participation_rate\"]\n",
    "    #for better viewing\n",
    "    scale = [4] * len(y)\n",
    "    plt.figure(figsize=(14,8))\n",
    "    plt.scatter(x=x,y=y,s=scale)\n",
    "\n",
    "    plt.xlabel(\"gdp per capita\")\n",
    "    plt.ylabel(\"diff in male and female labor\")\n",
    "    plt.show()\n"
   ]
  },
  {
   "cell_type": "code",
   "execution_count": null,
   "metadata": {},
   "outputs": [],
   "source": [
    "plot_data_1(cleaned_df)"
   ]
  },
  {
   "cell_type": "markdown",
   "metadata": {},
   "source": [
    "##### Task 1.5"
   ]
  },
  {
   "cell_type": "markdown",
   "metadata": {},
   "source": [
    "Write a Python function `compute_linear_regression_1()` that fits a linear regression line to the data, with GDP per capita as the predictor and the difference in labor force participation rate as the response. Your function should return the slope and the intercept of the regression line.\n",
    "\n",
    "The linear regression line can be found by minimizing the sum of the squared differences between the observed and predicted values. The slope and intercept can be calculated as follows:\n",
    "$$\n",
    "\\text{slope} = \\frac{\\sum_{i=1}^{n} (x_i - \\bar{x})(y_i - \\bar{y})}{\\sum_{i=1}^{n} (x_i - \\bar{x})^2}\n",
    "$$\n",
    "$$\n",
    "\\text{intercept} = \\bar{y} - \\text{slope} \\times \\bar{x}\n",
    "$$\n",
    "where $x_i$ is the GDP per capita of the $i$-th record, $y_i$ is the difference in labor force participation rate of the $i$-th record, $\\bar{x}$ is the average GDP per capita, and $\\bar{y}$ is the average difference in labor force participation rate."
   ]
  },
  {
   "cell_type": "markdown",
   "metadata": {},
   "source": [
    "```python\n",
    "def compute_linear_regression_1(data):\n",
    "    \"\"\"\n",
    "    Fit a linear regression line to the data\n",
    "    IN: data, DataFrame, data of GDP per capita, labor force participation rate of each country/territory\n",
    "    OUT: float, intercept of the regression line\n",
    "         float, slope of the regression line\n",
    "    \"\"\"\n",
    "    pass\n",
    "```"
   ]
  },
  {
   "cell_type": "code",
   "execution_count": null,
   "metadata": {},
   "outputs": [],
   "source": [
    "                              #as discussed after lecture, added optional param for ease of computing for other factors other than gdp_per_capita\n",
    "def compute_linear_regression_1(data,param=\"gdp_per_capita\"):\n",
    "    \"\"\"\n",
    "    Fit a linear regression line to the data\n",
    "    IN: data, DataFrame, data of GDP per capita, labor force participation rate of each country/territory\n",
    "    OUT: float, intercept of the regression line\n",
    "         float, slope of the regression line\n",
    "    \"\"\"\n",
    "  \n",
    "    #make all our data into np arrays\n",
    "    x_obs = np.array(data[param])\n",
    "    y_obs = np.array(data[\"difference_labor_force_participation_rate\"])\n",
    "    x_bar = np.mean(x_obs)\n",
    "    y_bar = np.mean(y_obs)\n",
    "    \n",
    "    #formula\n",
    "    num = np.sum(((x_obs -x_bar) * (y_obs - y_bar)))\n",
    "    denom = np.sum(((x_obs -x_bar) **2))\n",
    "    slope = num / denom\n",
    "    intercept = y_bar - (slope * x_bar)\n",
    "\n",
    "    return intercept,slope\n"
   ]
  },
  {
   "cell_type": "code",
   "execution_count": null,
   "metadata": {},
   "outputs": [],
   "source": [
    "compute_linear_regression_1(cleaned_df)"
   ]
  },
  {
   "cell_type": "markdown",
   "metadata": {},
   "source": [
    "##### Task 1.6"
   ]
  },
  {
   "cell_type": "markdown",
   "metadata": {},
   "source": [
    "Write a Python function `plot_linear_regression_1()` that plots the data along with the linear regression line.\n",
    "\n",
    "- The x-axis should be the GDP per capita.\n",
    "- The y-axis should be the difference of the labor force participation rate.\n",
    "- Use scatter points to plot the data and a line to represent the linear regression."
   ]
  },
  {
   "cell_type": "markdown",
   "metadata": {},
   "source": [
    "```python\n",
    "def plot_linear_regression_1(data, slope, intercept):\n",
    "    \"\"\"\n",
    "    Plot the data along with the linear regression line\n",
    "    IN: data, DataFrame, data of GDP per capita, labor force participation rate of each country/territory\n",
    "        slope, float, slope of the regression line\n",
    "        intercept, float, intercept of the regression line\n",
    "    OUT: None\n",
    "    \"\"\"\n",
    "    pass\n",
    "```"
   ]
  },
  {
   "cell_type": "code",
   "execution_count": null,
   "metadata": {},
   "outputs": [],
   "source": [
    "def plot_linear_regression_1(data, slope, intercept):\n",
    "    \"\"\"\n",
    "    Plot the data along with the linear regression line\n",
    "    IN: data, DataFrame, data of GDP per capita, labor force participation rate of each country/territory\n",
    "        slope, float, slope of the regression line\n",
    "        intercept, float, intercept of the regression line\n",
    "    OUT: None\n",
    "    \"\"\"\n",
    "    #plot the scatter plot first\n",
    "    x = data[\"gdp_per_capita\"]\n",
    "    y_scatter = data[\"difference_labor_force_participation_rate\"]\n",
    "    \n",
    "    \n",
    "    #plot the lin line\n",
    "    y_lin = (np.array(x) * slope) + intercept\n",
    "    \n",
    "    scale = [4] * len(y_scatter)\n",
    "    plt.figure(figsize=(14,8))\n",
    "    plt.scatter(x,y_scatter,s=scale)\n",
    "    plt.xlabel(\"gdp per capita\")\n",
    "    plt.ylabel(\"diff in male and female labor\")\n",
    "    plt.plot(x,y_lin,color=\"red\")\n",
    "\n",
    "\n",
    "     \n",
    "   "
   ]
  },
  {
   "cell_type": "code",
   "execution_count": null,
   "metadata": {},
   "outputs": [],
   "source": [
    "intercept,slope = compute_linear_regression_1(cleaned_df)\n",
    "plot_linear_regression_1(cleaned_df, slope, intercept)\n"
   ]
  },
  {
   "cell_type": "markdown",
   "metadata": {},
   "source": [
    "##### Task 1.7"
   ]
  },
  {
   "cell_type": "markdown",
   "metadata": {},
   "source": [
    "Write a Python function `get_determinant_1()` that returns the coefficient of determination of the linear regression.\n",
    "\n",
    "The coefficient of determination is calculated as follows:\n",
    "\n",
    "$$\n",
    "r^2 = \\frac{\\text{SSR}}{\\text{SST}}\n",
    "$$\n",
    "\n",
    "where:\n",
    "- $\\text{SSR}$ (Sum of the Squared Residuals): The sum of the squared differences between the actual values and the predicted values.\n",
    "- $\\text{SST}$ (Total Sum of Squares): The sum of the squared differences between the actual values and their mean.\n",
    "\n",
    "This metric measures how well the regression line fits the data, with values closer to 1 indicating a better fit."
   ]
  },
  {
   "cell_type": "markdown",
   "metadata": {},
   "source": [
    "```python\n",
    "def get_determinant_1(data, slope, intercept):\n",
    "    \"\"\"\n",
    "    Return the coefficient of determination of the linear regression\n",
    "    IN: data, DataFrame, data of GDP per capita, labor force participation rate of each country/territory\n",
    "        slope, float, slope of the regression line\n",
    "        intercept, float, intercept of the regression line\n",
    "    OUT: float, coefficient of determination\n",
    "    \"\"\"\n",
    "    pass\n",
    "```"
   ]
  },
  {
   "cell_type": "code",
   "execution_count": null,
   "metadata": {},
   "outputs": [],
   "source": [
    "                                    #as discussed after lecture, added optional param for ease of computing for other factors other than gdp_per_capita\n",
    "def get_determinant_1(data, slope, intercept,param=\"gdp_per_capita\"):\n",
    "    \"\"\"\n",
    "    Return the coefficient of determination of the linear regression\n",
    "    IN: data, DataFrame, data of GDP per capita, labor force participation rate of each country/territory\n",
    "        slope, float, slope of the regression line\n",
    "        intercept, float, intercept of the regression line\n",
    "    OUT: float, coefficient of determination\n",
    "    \"\"\"\n",
    "\n",
    "    x = data[param]\n",
    "\n",
    "    #observed \n",
    "    y_obs = np.array(data[\"difference_labor_force_participation_rate\"])\n",
    "\n",
    "    #predicted values\n",
    "    y_pred = (np.array(x) * slope) + intercept\n",
    "\n",
    "    #ssr\n",
    "    ssr = np.sum((y_pred - np.mean(y_obs)) **2)\n",
    "\n",
    "    #sst\n",
    "    sst  = np.sum((y_obs -np.mean(y_obs))**2)\n",
    "\n",
    "\n",
    "    r2 =(ssr/sst)    \n",
    "\n",
    "    return r2"
   ]
  },
  {
   "cell_type": "code",
   "execution_count": null,
   "metadata": {},
   "outputs": [],
   "source": [
    "intercept,slope = compute_linear_regression_1(cleaned_df)\n",
    "get_determinant_1(cleaned_df, slope, intercept)"
   ]
  },
  {
   "cell_type": "markdown",
   "metadata": {},
   "source": [
    "#### Level 2"
   ]
  },
  {
   "cell_type": "markdown",
   "metadata": {},
   "source": [
    "In this level, we will examine whether, and to what extent, a country’s GDP per capita and the year are related to the difference in labor force participation rates between males and females."
   ]
  },
  {
   "cell_type": "markdown",
   "metadata": {},
   "source": [
    "##### Task 2.1"
   ]
  },
  {
   "cell_type": "markdown",
   "metadata": {},
   "source": [
    "The same as Task 1.1."
   ]
  },
  {
   "cell_type": "markdown",
   "metadata": {},
   "source": [
    "```python\n",
    "def get_data_2():\n",
    "    \"\"\"\n",
    "    Retrieve the GDP per capita, labor force participation rate of each country/territory\n",
    "    IN: None\n",
    "    OUT: DataFrame, data of GDP per capita, labor force participation rate of each country/territory\n",
    "    \"\"\"\n",
    "    return get_data_1()\n",
    "```"
   ]
  },
  {
   "cell_type": "code",
   "execution_count": null,
   "metadata": {},
   "outputs": [],
   "source": [
    "def get_data_2():\n",
    "    \"\"\"\n",
    "    Retrieve the GDP per capita, labor force participation rate of each country/territory\n",
    "    IN: None\n",
    "    OUT: DataFrame, data of GDP per capita, labor force participation rate of each country/territory\n",
    "    \"\"\"\n",
    "    return get_data_1()"
   ]
  },
  {
   "cell_type": "markdown",
   "metadata": {},
   "source": [
    "##### Task 2.2"
   ]
  },
  {
   "cell_type": "markdown",
   "metadata": {},
   "source": [
    "The same as Task 1.2."
   ]
  },
  {
   "cell_type": "markdown",
   "metadata": {},
   "source": [
    "```python\n",
    "def save_data_2(data, mydb, cursor, db_name):\n",
    "    \"\"\"\n",
    "    Save the data in a MySQL database\n",
    "    IN: data, DataFrame, data of GDP per capita, labor force participation rate of each country/territory\n",
    "        mydb, MySQL connection\n",
    "        cursor, MySQL cursor\n",
    "        db_name, str, name of the database\n",
    "    OUT: None\n",
    "    \"\"\"\n",
    "    return save_data_1(data, mydb, cursor, db_name)\n",
    "```"
   ]
  },
  {
   "cell_type": "code",
   "execution_count": null,
   "metadata": {},
   "outputs": [],
   "source": [
    "def save_data_2(data, mydb, cursor, db_name):\n",
    "    \"\"\"\n",
    "    Save the data in a MySQL database\n",
    "    IN: data, DataFrame, data of GDP per capita, labor force participation rate of each country/territory\n",
    "        mydb, MySQL connection\n",
    "        cursor, MySQL cursor\n",
    "        db_name, str, name of the database\n",
    "    OUT: None\n",
    "    \"\"\"\n",
    "    return save_data_1(data, mydb, cursor, db_name)"
   ]
  },
  {
   "cell_type": "markdown",
   "metadata": {},
   "source": [
    "##### Task 2.3"
   ]
  },
  {
   "cell_type": "markdown",
   "metadata": {},
   "source": [
    "The same as Task 1.3."
   ]
  },
  {
   "cell_type": "markdown",
   "metadata": {},
   "source": [
    "```python\n",
    "def load_data_2(mydb, cursor, db_name):\n",
    "    \"\"\"\n",
    "    Query the data from the MySQL database\n",
    "    IN: mydb, MySQL connection\n",
    "        cursor, MySQL cursor\n",
    "        db_name, str, name of the database\n",
    "    OUT: DataFrame, data of GDP per capita, labor force participation rate of each country/territory\n",
    "    \"\"\"\n",
    "    return load_data_1(mydb, cursor, db_name)\n",
    "```"
   ]
  },
  {
   "cell_type": "code",
   "execution_count": null,
   "metadata": {},
   "outputs": [],
   "source": [
    "def load_data_2(mydb, cursor, db_name):\n",
    "    \"\"\"\n",
    "    Query the data from the MySQL database\n",
    "    IN: mydb, MySQL connection\n",
    "        cursor, MySQL cursor\n",
    "        db_name, str, name of the database\n",
    "    OUT: DataFrame, data of GDP per capita, labor force participation rate of each country/territory\n",
    "    \"\"\"\n",
    "    return load_data_1(mydb, cursor, db_name)"
   ]
  },
  {
   "cell_type": "markdown",
   "metadata": {},
   "source": [
    "##### Task 2.4\n",
    "\n",
    "Write a Python function `plot_data_2()` that visualizes the relationship between GDP per capita, the year, and the difference in labor force participation rates using a 3D scatter plot.\n",
    "\n",
    "- The x-axis should be the GDP per capita.\n",
    "- The y-axis should be the year\n",
    "- The z-axis should be the difference of the labor force participation rate.\n",
    "\n",
    "Note: \n",
    "- You can use the following code to create a 3D scatter plot:\n",
    "    ```python\n",
    "    import matplotlib.pyplot as plt\n",
    "\n",
    "    fig = plt.figure()\n",
    "    ax = fig.add_subplot(111, projection='3d')\n",
    "\n",
    "    ax.scatter(X, Y, Z, c='r', marker='o')\n",
    "\n",
    "    ax.set_xlabel('GDP per capita')\n",
    "    ax.set_ylabel('Year')\n",
    "    ax.set_zlabel('Difference of labor force participation rate')\n",
    "\n",
    "    plt.show()\n",
    "    ```"
   ]
  },
  {
   "cell_type": "markdown",
   "metadata": {},
   "source": [
    "```python\n",
    "def plot_data_2(data):\n",
    "    \"\"\"\n",
    "    Visualize the relationship between GDP per capita, the year, and the difference in labor force participation rates\n",
    "    IN: data, DataFrame, data of GDP per capita, labor force participation rate of each country/territory\n",
    "    OUT: None\n",
    "    \"\"\"\n",
    "    pass\n",
    "```"
   ]
  },
  {
   "cell_type": "code",
   "execution_count": null,
   "metadata": {},
   "outputs": [],
   "source": [
    "def plot_data_2(data):\n",
    "    \"\"\"\n",
    "    Visualize the relationship between GDP per capita, the year, and the difference in labor force participation rates\n",
    "    IN: data, DataFrame, data of GDP per capita, labor force participation rate of each country/territory\n",
    "    OUT: None\n",
    "    \"\"\"\n",
    "\n",
    "    #grab the right series\n",
    "    x = data[\"gdp_per_capita\"]\n",
    "    y = data[\"year\"]\n",
    "    z = data[\"difference_labor_force_participation_rate\"]\n",
    "    \n",
    "    fig = plt.figure(figsize=(10,8))\n",
    "    \n",
    "    ax = fig.add_subplot(111, projection='3d')\n",
    "    ax.scatter(x,y,z)\n",
    "    #set appropriate x,y, and z labels\n",
    "    ax.set_xlabel('gdp per capita')\n",
    "    ax.set_ylabel('year')\n",
    "    ax.set_zlabel('difference of labor force participation rate')\n",
    "    pass"
   ]
  },
  {
   "cell_type": "code",
   "execution_count": null,
   "metadata": {},
   "outputs": [],
   "source": [
    "plot_data_2(cleaned_df)"
   ]
  },
  {
   "cell_type": "markdown",
   "metadata": {},
   "source": [
    "##### Task 2.5"
   ]
  },
  {
   "cell_type": "markdown",
   "metadata": {},
   "source": [
    "Write a Python function `compute_linear_regression_2()` similar to Task 1.5 except that it should fit a linear regression plane from both the GDP per capita and the year to the difference of the labor force participation rate. Your function should return slopes for GDP per capita and year and the intercept of the regression plane.\n",
    "\n",
    "The linear regression plane can be found by minimizing the sum of the squared differences between the observed and predicted values. The slopes and intercept can be calculated as follows:\n",
    "\n",
    "$$\n",
    "\\text{slope}_1 = \\frac{\\sum_{i=1}^{n} (x_{1,i} - \\bar{x}_{1})(y_i - \\bar{y})}{\\sum_{i=1}^{n} (x_{1,i} - \\bar{x}_{1})^2}\n",
    "$$\n",
    "$$\n",
    "\\text{slope}_2 = \\frac{\\sum_{i=1}^{n} (x_{2,i} - \\bar{x}_{2})(y_i - \\bar{y})}{\\sum_{i=1}^{n} (x_{2,i} - \\bar{x}_{2})^2}\n",
    "$$\n",
    "$$\n",
    "\\text{intercept} = \\bar{y} - \\text{slope}_1 \\times \\bar{x}_1 - \\text{slope}_2 \\times \\bar{x}_2\n",
    "$$\n",
    "where $x_{1,i}$ is the GDP per capita of the $i$-th record, $x_{2,i}$ is the year of the $i$-th record, $y_i$ is the difference in labor force participation rate of the $i$-th record, $\\bar{x}_1$ is the mean GDP per capita, $\\bar{x}_2$ is the mean year, and $\\bar{y}$ is the mean difference in labor force participation rate.\n",
    "\n",
    "You can rewrite the above equations in matrix form as follows:\n",
    "$$\n",
    "\\begin{bmatrix}\n",
    "\\text{intercept} \\\\\n",
    "\\text{slope}_1 \\\\\n",
    "\\text{slope}_2 \\\\\n",
    "\\end{bmatrix}\n",
    "=\n",
    "(X^T X)^{-1} X^T y\n",
    "$$\n",
    "where $X$ is a matrix of shape $(n, 3)$ with the first column being all ones, the second column being the GDP per capita, and the third column being the year, and $y$ is a vector of shape $(n,)$ with the difference in labor force participation rate."
   ]
  },
  {
   "cell_type": "markdown",
   "metadata": {},
   "source": [
    "```python\n",
    "def compute_linear_regression_2(data):\n",
    "    \"\"\"\n",
    "    Fit a linear regression plane to the data\n",
    "    IN: data, DataFrame, data of GDP per capita, labor force participation rate of each country/territory\n",
    "    OUT: ndarray of shape (3,), (intercept, slope_gdp, slope_year)\n",
    "    \"\"\"\n",
    "    pass\n",
    "```"
   ]
  },
  {
   "cell_type": "code",
   "execution_count": null,
   "metadata": {},
   "outputs": [],
   "source": [
    "                                #as discussed after lecture, added optional params for ease of computing for other factors other than gdp_per_capita & year\n",
    "def compute_linear_regression_2(data,params=(\"gdp_per_capita\",\"year\")):\n",
    "    \"\"\"\n",
    "    Fit a linear regression plane to the data\n",
    "    IN: data, DataFrame, data of GDP per capita, labor force participation rate of each country/territory\n",
    "    OUT: ndarray of shape (3,), (intercept, slope_gdp, slope_year)\n",
    "    \"\"\"\n",
    "    n = len(data)\n",
    "\n",
    "    #unpack added params\n",
    "    p1,p2 = params \n",
    "    #change to axis =1 no point of using transpose to align intercept col\n",
    "    X = np.stack([np.ones(n),data[p1],data[p2]],axis=1)\n",
    "    y= data[\"difference_labor_force_participation_rate\"]\n",
    "    \n",
    "    intercept_slopex_slopey= np.matmul(np.linalg.inv(np.matmul(X.T,X)), np.matmul(X.T,y)) \n",
    "    return intercept_slopex_slopey"
   ]
  },
  {
   "cell_type": "code",
   "execution_count": null,
   "metadata": {},
   "outputs": [],
   "source": [
    "compute_linear_regression_2(cleaned_df)"
   ]
  },
  {
   "cell_type": "markdown",
   "metadata": {},
   "source": [
    "##### Task 2.6"
   ]
  },
  {
   "cell_type": "markdown",
   "metadata": {},
   "source": [
    "Write a Python function `plot_linear_regression_2()` that visualizes the data as a 3D scatter plot along with the fitted linear regression plane.\n",
    "\n",
    "Note: \n",
    "- You can use the following code to create a plane in a 3D plot:\n",
    "    ```python\n",
    "    fig = plt.figure()\n",
    "    ax = fig.add_subplot(111, projection='3d')\n",
    "\n",
    "    Z = slope_gdp * X + slope_year * Y + intercept\n",
    "\n",
    "    ax.plot_surface(X, Y, Z, alpha=0.5)\n",
    "\n",
    "    plt.show()\n",
    "    ```"
   ]
  },
  {
   "cell_type": "markdown",
   "metadata": {},
   "source": [
    "```python\n",
    "def plot_linear_regression_2(data, regression_params):\n",
    "    \"\"\"\n",
    "    Visualize the data as a 3D scatter plot along with the fitted linear regression plane\n",
    "    IN: data, DataFrame, data of GDP per capita, labor force participation rate of each country/territory\n",
    "        regression_params, ndarray of shape (3,), (intercept, slope_gdp, slope_year)\n",
    "    OUT: None\n",
    "    \"\"\"\n",
    "    pass\n",
    "```"
   ]
  },
  {
   "cell_type": "code",
   "execution_count": null,
   "metadata": {},
   "outputs": [],
   "source": [
    "def plot_linear_regression_2(data, regression_params):\n",
    "    \"\"\"\n",
    "    Visualize the data as a 3D scatter plot along with the fitted linear regression plane\n",
    "    IN: data, DataFrame, data of GDP per capita, labor force participation rate of each country/territory\n",
    "        regression_params, ndarray of shape (3,), (intercept, slope_gdp, slope_year)\n",
    "    OUT: None\n",
    "    \"\"\"\n",
    "    \n",
    "    #destructure reg params\n",
    "    intercept,slope_gdp,slope_year = regression_params\n",
    "    #grab series\n",
    "    x = data[\"gdp_per_capita\"]\n",
    "    y = data[\"year\"]\n",
    "    z = data[\"difference_labor_force_participation_rate\"]\n",
    "    \n",
    "    #make meshgrid out of x y so we can plot 3d\n",
    "    x_grid,y_grid = np.meshgrid(np.linspace(x.min(),x.max()),np.linspace(y.min(),y.max(),100))\n",
    "\n",
    "    z_line = slope_gdp * x_grid + slope_year * y_grid +intercept\n",
    "    \n",
    "\n",
    "    #set up plot\n",
    "    fig = plt.figure(figsize=(10,12))\n",
    "    ax = fig.add_subplot(111, projection='3d')\n",
    "    scale = [10] * len(y)\n",
    "    ax.scatter(x,y,z,s=scale)\n",
    "    ax.plot_surface(x_grid,y_grid,z_line,alpha=0.5,color=\"red\")\n",
    "    ax.set_xlabel('gdp per capita')\n",
    "    ax.set_ylabel('year')\n",
    "    ax.set_zlabel('diff of labor force participation rate')\n",
    "\n",
    "    plt.show()\n",
    "  "
   ]
  },
  {
   "cell_type": "code",
   "execution_count": null,
   "metadata": {},
   "outputs": [],
   "source": [
    "regression_params = compute_linear_regression_2(cleaned_df)\n",
    "plot_linear_regression_2(cleaned_df,regression_params)"
   ]
  },
  {
   "cell_type": "markdown",
   "metadata": {},
   "source": [
    "##### Task 2.7\n",
    "\n",
    "Write a Python function `get_determinant_2()` that calculates and returns the coefficient of determination for the linear regression plane fitted to predict the difference in labor force participation rates using GDP per capita and year as predictors."
   ]
  },
  {
   "cell_type": "markdown",
   "metadata": {},
   "source": [
    "```python\n",
    "def get_determinant_2(data, regression_params):\n",
    "    \"\"\"\n",
    "    Return the coefficient of determination of the linear regression plane\n",
    "    IN: data, DataFrame, data of GDP per capita, labor force participation rate of each country/territory\n",
    "        regression_params, ndarray of shape (3,), (intercept, slope_gdp, slope_year)\n",
    "    OUT: float, coefficient of determination\n",
    "    \"\"\"\n",
    "    pass\n",
    "```"
   ]
  },
  {
   "cell_type": "code",
   "execution_count": null,
   "metadata": {},
   "outputs": [],
   "source": [
    "                            #as discussed after lecture, added optional params for ease of computing for other factors other than gdp_per_capita & year\n",
    "def get_determinant_2(data, regression_params,params=(\"gdp_per_capita\",\"year\")):\n",
    "    \"\"\"\n",
    "    Return the coefficient of determination of the linear regression plane\n",
    "    IN: data, DataFrame, data of GDP per capita, labor force participation rate of each country/territory\n",
    "        regression_params, ndarray of shape (3,), (intercept, slope_gdp, slope_year)\n",
    "    OUT: float, coefficient of determination\n",
    "    \"\"\"\n",
    "    #destructure reg params & col params\n",
    "    p1,p2 = params\n",
    "   \n",
    "    #grab series\n",
    "    x = data[p1]\n",
    "    y = data[p2]\n",
    "    z_obs = data[\"difference_labor_force_participation_rate\"]\n",
    "    X= np.stack([np.ones(len(data)),x,y],axis=1)\n",
    "    #prediction values\n",
    "    z_pred = X @ regression_params\n",
    "\n",
    "    #sum(( observed - predicted)^2)\n",
    "    ssr = np.sum((z_pred - np.mean(z_obs)) **2)\n",
    "\n",
    "    #sum((observed - mean(observed)**2))\n",
    "    sst = np.sum((z_obs - np.mean(z_obs)) **2)\n",
    "\n",
    "\n",
    "\n",
    "\n",
    "    r2 = (ssr/sst)\n",
    "    return r2\n"
   ]
  },
  {
   "cell_type": "code",
   "execution_count": null,
   "metadata": {},
   "outputs": [],
   "source": [
    "regression_params = compute_linear_regression_2(cleaned_df)\n",
    "get_determinant_2(cleaned_df, regression_params)"
   ]
  },
  {
   "cell_type": "markdown",
   "metadata": {},
   "source": [
    "##### Task 2.8\n",
    "\n",
    "To find which factor is more important, write a Python function `compare_determinants_2()` to determine which factor—GDP per capita or year—is more influential in explaining the difference in labor force participation rates.\n",
    "\n",
    "Steps:\n",
    "- Calculate the \"full model\" determinant:\n",
    "    Use `get_determinant_2()` to get the coefficient of determination for the linear regression plane with both GDP per capita and year as predictors.\n",
    "- Calculate the \"GDP model\" determinant:\n",
    "    Use `get_determinant_1()` to get the coefficient of determination for the linear regression with only GDP per capita as the predictor.\n",
    "- Calculate the \"year model\" determinant:\n",
    "    Use `get_determinant_1()` to get the coefficient of determination for the linear regression with only year as the predictor.\n",
    "- Compare the differences:\n",
    "    - Compute the difference between the \"full model\" determinant and the \"GDP model\" determinant.\n",
    "    - Compute the difference between the \"full model\" determinant and the \"year model\" determinant.\n",
    "- Determine the more important factor:\n",
    "    - Return the factor (GDP per capita or year) associated with the larger difference."
   ]
  },
  {
   "cell_type": "markdown",
   "metadata": {},
   "source": [
    "```python\n",
    "def compare_determinants_2(data, regression_params):\n",
    "    \"\"\"\n",
    "    Determine which factor—GDP per capita or year—is more influential in explaining the difference in labor force participation rates\n",
    "    IN: data, DataFrame, data of GDP per capita, labor force participation rate of each country/territory\n",
    "        regression_params, ndarray of shape (3,), (intercept, slope_gdp, slope_year)\n",
    "    OUT: str, the more important factor\n",
    "    \"\"\"\n",
    "    pass\n",
    "```"
   ]
  },
  {
   "cell_type": "code",
   "execution_count": null,
   "metadata": {},
   "outputs": [],
   "source": [
    "def handle_single_determinant(data,param):\n",
    "    intercept,slope = compute_linear_regression_1(data,param=param)\n",
    "    return get_determinant_1(data,slope,intercept,param=param) \n",
    "\n",
    "def compare_determinants_2(data, regression_params):\n",
    "    \"\"\"\n",
    "    Determine which factor—GDP per capita or year—is more influential in explaining the difference in labor force participation rates\n",
    "    IN: data, DataFrame, data of GDP per capita, labor force participation rate of each country/territory\n",
    "        regression_params, ndarray of shape (3,), (intercept, slope_gdp, slope_year)\n",
    "    OUT: str, the more important factor\n",
    "    \"\"\"\n",
    "    full_model = get_determinant_2(data,regression_params)\n",
    "\n",
    "    #pass correct param name to the handle determinant function\n",
    "\n",
    "    #gdp model\n",
    "    gdp_model = full_model - handle_single_determinant(data,\"gdp_per_capita\")\n",
    "\n",
    "    #year_model\n",
    "    year_model = full_model - handle_single_determinant(data,\"year\")\n",
    "   \n",
    "\n",
    "    return \"gdp_per_capita\" if gdp_model < year_model else \"year\""
   ]
  },
  {
   "cell_type": "code",
   "execution_count": null,
   "metadata": {},
   "outputs": [],
   "source": [
    "regression_params = compute_linear_regression_2(cleaned_df)\n",
    "compare_determinants_2(cleaned_df, regression_params)"
   ]
  },
  {
   "cell_type": "markdown",
   "metadata": {},
   "source": [
    "#### Level 3"
   ]
  },
  {
   "cell_type": "markdown",
   "metadata": {},
   "source": [
    "In this level, we will explore additional factors that may influence the difference in labor force participation rates between males and females."
   ]
  },
  {
   "cell_type": "markdown",
   "metadata": {},
   "source": [
    "##### Task 3.1"
   ]
  },
  {
   "cell_type": "markdown",
   "metadata": {},
   "source": [
    "Write a Python function `get_data_3()` similar to Task 1.1 except that it should retrieve more data from the World Bank API:\n",
    "\n",
    "- GDP per capita (current US$) (NY.GDP.PCAP.CD)\n",
    "- Labor force participation rate, male (% of male population ages 15+) (modeled ILO estimate) (SL.TLF.CACT.MA.ZS)\n",
    "- Labor force participation rate, female (% of female population ages 15+) (modeled ILO estimate) (SL.TLF.CACT.FE.ZS)\n",
    "- **Labor force, female (% of total labor force) (SL.TLF.TOTL.FE.ZS)**\n",
    "- **Literacy rate, adult male (% of males ages 15 and above) (SE.ADT.LITR.MA.ZS)**\n",
    "- **Literacy rate, adult female (% of females ages 15 and above) (SE.ADT.LITR.FE.ZS)**\n",
    "- **Life expectancy at birth, male (years) (SP.DYN.LE00.FE.IN)**\n",
    "- **Life expectancy at birth, female (years) (SP.DYN.LE00.FE.IN)**\n",
    "\n",
    "Note: You can decide to add more factors if you think they are relevant. A full list of available indicators can be found at https://data.worldbank.org/indicator?tab=all"
   ]
  },
  {
   "cell_type": "markdown",
   "metadata": {},
   "source": [
    "```python\n",
    "def get_data_3(x_indicator_codes):\n",
    "    \"\"\"\n",
    "    Retrieve the data of each country/territory\n",
    "    IN: x_indicator_codes, list of str, indicator codes as predictors for the linear regression\n",
    "    OUT: DataFrame, data of each country/territory\n",
    "    \"\"\"\n",
    "    pass\n",
    "```"
   ]
  },
  {
   "cell_type": "code",
   "execution_count": null,
   "metadata": {},
   "outputs": [],
   "source": [
    "def get_data_3(x_indicator_codes):\n",
    "    \"\"\"\n",
    "    Retrieve the data of each country/territory\n",
    "    IN: x_indicator_codes, list of str, indicator codes as predictors for the linear regression\n",
    "    OUT: DataFrame, data of each country/territory\n",
    "    \"\"\"\n",
    "    country_name_id = get_all_countries()\n",
    "    data = {}\n",
    "    indicators_dict = {\n",
    "                    #\"NY.GDP.PCAP.CD\":\"gdp\",\n",
    "                    #\"SL.TLF.CACT.MA.ZS\":\"ML\",\n",
    "                    #\"SL.TLF.CACT.FE.ZS\":\"FL\",\n",
    "                    \"SL.TLF.TOTL.FE.ZS\": \"LFF\",\n",
    "                    \"SE.ADT.LITR.MA.ZS\": \"LRM\",\n",
    "                    \"SE.ADT.LITR.FE.ZS\": \"LRF\",\n",
    "                    \"SP.DYN.LE00.MA.IN\": \"LEM\",\n",
    "                    \"SP.DYN.LE00.FE.IN\": \"LEF\"\n",
    "                 }\n",
    "    for j, (name,id)  in enumerate(country_name_id): #use the id to get gdp per capital \n",
    "        data[id] = [{\n",
    "            \"name\":name,\n",
    "            \"id\":id,\n",
    "            \"date\":None,\n",
    "            #\"gdp\":None, # not repeating same data as inserting into same database\n",
    "            #\"ML\":None,\n",
    "            #\"FL\":None,\n",
    "            \"LFF\":None,\n",
    "            \"LRM\":None,\n",
    "            \"LRF\":None,\n",
    "            \"LEM\":None,\n",
    "            \"LEF\":None   \n",
    "        }]\n",
    "        for indicator in x_indicator_codes:\n",
    "            country_data = req_helper(f\"https://api.worldbank.org/v2/country/{id}/indicator/{indicator}?format=json&per_page=5000\")\n",
    "            if country_data != None:\n",
    "                #make sure the data is there to grab, then insert in the approporiate dictionary\n",
    "                if len(data[id]) != len(country_data):\n",
    "                        data[id].extend([{\"name\":name,\"id\":id,\"date\":None,\"gdp\":None,\"ML\":None,\"FL\":None,\"LFF\":None,\"LRM\":None,\"LRF\":None,\"LEM\":None,\"LEF\":None} for _ in range(len(country_data) - len(data[id]))])\n",
    "                for i,obj in enumerate(country_data):\n",
    "                    if obj.get(\"date\") and data[id][i][\"date\"] == None:\n",
    "                        data[id][i][\"date\"] = obj[\"date\"]\n",
    "                    if obj.get(\"value\"):\n",
    "                        #use the dict to get the column value for the df\n",
    "                        data[id][i][indicators_dict[indicator]] = obj[\"value\"]\n",
    "        #if j%10 == 0 : (for progress)\n",
    "        #    print(j)\n",
    "\n",
    "    #absolutely no data was found not surre if we should extend or delete the data entirely...(extending 4 now)\n",
    "    cp = data.copy()\n",
    "    length =  0\n",
    "    for id,list_of_dicts in list(cp.items()):\n",
    "        if len(list_of_dicts) > 1 and length ==0:\n",
    "            length = len(list_of_dicts)\n",
    "        if len(list_of_dicts) == 1:\n",
    "            data[id] *= length\n",
    "            \n",
    "    list_of_data = [d for l in list(data.values()) for d in l]\n",
    " \n",
    "    return pd.DataFrame(list_of_data)\n",
    "    "
   ]
  },
  {
   "cell_type": "code",
   "execution_count": null,
   "metadata": {},
   "outputs": [],
   "source": [
    "# using the same databse, so there is no point of repeating the same data\n",
    "x_indicator_codes = [\n",
    "    #\"NY.GDP.PCAP.CD\",\n",
    "    #\"SL.TLF.CACT.MA.ZS\",\n",
    "    #\"SL.TLF.CACT.FE.ZS\", \n",
    "    \"SL.TLF.TOTL.FE.ZS\",\n",
    "    \"SE.ADT.LITR.MA.ZS\",\n",
    "    \"SE.ADT.LITR.FE.ZS\",\n",
    "    \"SP.DYN.LE00.MA.IN\",\n",
    "    \"SP.DYN.LE00.FE.IN\"\n",
    "    ]\n",
    "#takes ~5.5 min\n",
    "large_data =get_data_3(x_indicator_codes)"
   ]
  },
  {
   "cell_type": "markdown",
   "metadata": {},
   "source": [
    "##### Task 3.2"
   ]
  },
  {
   "cell_type": "markdown",
   "metadata": {},
   "source": [
    "Write a Python function `save_data_3()` similar to Task 1.2 except that it should save the additional data in the MySQL database."
   ]
  },
  {
   "cell_type": "markdown",
   "metadata": {},
   "source": [
    "```python\n",
    "def save_data_3(data, mydb, cursor, db_name):\n",
    "    \"\"\"\n",
    "    Save the data in a MySQL database\n",
    "    IN: data, DataFrame, data of each country/territory\n",
    "        mydb, MySQL connection\n",
    "        cursor, MySQL cursor\n",
    "        db_name, str, name of the database\n",
    "    OUT: None\n",
    "    \"\"\"\n",
    "    pass\n",
    "```"
   ]
  },
  {
   "cell_type": "code",
   "execution_count": null,
   "metadata": {},
   "outputs": [],
   "source": [
    "def create_remaining_tables():\n",
    "\n",
    "    #value is percentage for labor force female\n",
    "    create_labor_force_total_female = '''\n",
    "    create table labor_force_total_female (\n",
    "    country_code char(3) not null,\n",
    "    year int,\n",
    "    value double,\n",
    "    foreign key (country_code) references country(code)  \n",
    "    );\n",
    "    '''\n",
    "\n",
    "    #value is percentage\n",
    "    create_literacy_rate = '''\n",
    "    create table literacy_rate (\n",
    "    country_code char(3) not null,\n",
    "    year int,\n",
    "    male_value double,\n",
    "    female_value double,\n",
    "    foreign key (country_code) references country(code) \n",
    "    );\n",
    "    '''\n",
    "\n",
    "    #value is years\n",
    "    create_life_expectancy_rate = '''\n",
    "    create table life_expectancy (\n",
    "    country_code char(3) not null,\n",
    "    year int,\n",
    "    male_value double,\n",
    "    female_value double,\n",
    "    foreign key (country_code) references country(code)\n",
    "    );\n",
    "    '''\n",
    "    return [create_labor_force_total_female,create_literacy_rate,create_life_expectancy_rate]\n",
    "\n",
    "\n",
    "def save_data_3(data, mydb, cursor, db_name):\n",
    "    \"\"\"\n",
    "    Save the data in a MySQL database\n",
    "    IN: data, DataFrame, data of each country/territory\n",
    "        mydb, MySQL connection\n",
    "        cursor, MySQL cursor\n",
    "        db_name, str, name of the database\n",
    "    OUT: None\n",
    "    \"\"\"\n",
    "\n",
    "     #********HANDLES CREATION OF TABLES********#\n",
    "    create_statements =  create_remaining_tables()\n",
    "    #give it a few seconds so the country table can  be made so the other tables can reference it, 5 secs might b overkill  but doenst matter.\n",
    "    for q in create_statements:\n",
    "        cursor.execute(q) \n",
    "        time.sleep(2)\n",
    "    #********HANDLES CREATION OF TABLES********#\n",
    "\n",
    "\n",
    "    #********HANDLES INSERTION INTO TOTAL LABOR FEMALE********#\n",
    "    labor_total_female = data[[\"id\",\"date\",\"LFF\"]].values\n",
    "    for id,year,value in labor_total_female:\n",
    "        q= f'''\n",
    "        insert into labor_force_total_female (country_code,year,value) values (\"{id}\",{'null' if pd.isnull(year) else year}, {'null' if pd.isnull(value) else value});\n",
    "        '''\n",
    "        cursor.execute(q) \n",
    "    #********HANDLES INSERTION INTO TOTAL LABOR FEMALE********#\n",
    "\n",
    "\n",
    "    #********HANDLES INSERTION INTO LITERACY_RATE********#\n",
    "    filtered_df = data[[\"id\",\"date\",\"LRM\",\"LRF\"]]\n",
    "    for _,row in filtered_df.iterrows():\n",
    "        q= f'''\n",
    "            insert into literacy_rate (country_code, year, male_value,female_value) values ('{row[\"id\"]}',{'null' if pd.isnull(row[\"date\"]) else row[\"date\"]},{'null' if pd.isnull(row[\"LRM\"]) else row[\"LRM\"]},{'null' if pd.isnull(row[\"LRF\"]) else row[\"LRF\"]});\n",
    "            '''\n",
    "        cursor.execute(q)\n",
    "    #********HANDLES INSERTION INTO LITERACY_RATE********#\n",
    "\n",
    "    #********HANDLES INSERTION INTO LIFE_EXPECTANCY********#\n",
    "    filtered_df = data[[\"id\",\"date\",\"LEM\",\"LEF\"]]\n",
    "    for _,row in filtered_df.iterrows():\n",
    "            q = f\"\"\"\n",
    "            insert into life_expectancy (country_code, year, male_value,female_value) values ('{row[\"id\"]}',{'null' if pd.isnull(row[\"date\"]) else row[\"date\"]},{'null' if pd.isnull(row[\"LEM\"]) else row[\"LEM\"]}, {'null' if pd.isnull(row[\"LEF\"]) else row[\"LEF\"]});\n",
    "            \"\"\"\n",
    "            cursor.execute(q)\n",
    "    #********HANDLES INSERTION INTO LIFE_EXPECTANCY********#\n",
    "\n",
    "    mydb.commit()"
   ]
  },
  {
   "cell_type": "code",
   "execution_count": null,
   "metadata": {},
   "outputs": [],
   "source": [
    "save_data_3(large_data, mydb, cursor, db_name)"
   ]
  },
  {
   "cell_type": "markdown",
   "metadata": {},
   "source": [
    "##### Task 3.3"
   ]
  },
  {
   "cell_type": "markdown",
   "metadata": {},
   "source": [
    "Write a Python function `load_data_3()` similar to Task 1.3 except that it should query the additional data from the MySQL database."
   ]
  },
  {
   "cell_type": "markdown",
   "metadata": {},
   "source": [
    "```python\n",
    "def load_data_3(mydb, cursor, db_name):\n",
    "    \"\"\"\n",
    "    Query the data from the MySQL database\n",
    "    IN: mydb, MySQL connection\n",
    "        cursor, MySQL cursor\n",
    "        db_name, str, name of the database\n",
    "    OUT: DataFrame, data of each country/territory\n",
    "    \"\"\"\n",
    "    pass\n",
    "```"
   ]
  },
  {
   "cell_type": "code",
   "execution_count": null,
   "metadata": {},
   "outputs": [],
   "source": [
    "def load_data_3(mydb, cursor, db_name):\n",
    "    \"\"\"\n",
    "    Query the data from the MySQL database\n",
    "    IN: mydb, MySQL connection\n",
    "        cursor, MySQL cursor\n",
    "        db_name, str, name of the database\n",
    "    OUT: DataFrame, data of each country/territory\n",
    "    \"\"\"\n",
    "    pass \n",
    "    #large conditional query since were only grabbing rows where there is no null values for any cols\n",
    "    #essentially join all tables, check if anything is null, then calculate the difference between the gender for partipation rate\n",
    "    q = f\"\"\"\n",
    "    select C.name, C.code, G.year, G.value as \"gdp\", (L.male_value - L.female_value) as 'difference_labor_force_participation_rate', \n",
    "    LFTF.value as \"labor_force_total_female\", LR.male_value,LR.female_value,LE.male_value, LE.female_value\n",
    "    from country C \n",
    "    inner join gdp_per_capita G on C.code = G.country_code\n",
    "    inner join labor_force_participation_rate L on C.code = L.country_code\n",
    "\n",
    "    inner join labor_force_total_female LFTF on C.code = LFTF.country_code \n",
    "    inner join literacy_rate LR on C.code = LR.country_code \n",
    "    inner join life_expectancy LE on C.code = LE.country_code\n",
    "    \n",
    "    where G.year is not null and \n",
    "    G.value is not null and \n",
    "    L.male_value is not null and \n",
    "    L.female_value is not null and\n",
    "    LE.male_value is not null and\n",
    "    LE.female_value is not null and \n",
    "    LR.male_value is not null and \n",
    "    LR.female_value is not null and\n",
    "    LFTF.value is not null and \n",
    "    G.year = L.year and \n",
    "    G.year = LFTF.year and\n",
    "    G.year = LR.year and\n",
    "    G.year = LE.year\n",
    "    \"\"\"\n",
    "    cursor.execute(q)\n",
    "    res = cursor.fetchall()\n",
    "    data = []\n",
    "    #parse the data in res, including all necessary columns for new cleaned dataframe\n",
    "    for name,id,year,gdp,diff_lf_m_f,total_female_lf,lrm,lrf,lem,lef in res:\n",
    "        d ={\n",
    "            \"country_name\":name,\n",
    "            \"country_code\":id,\n",
    "            \"year\":year,\n",
    "            \"gdp_per_capita\":gdp,\n",
    "            \"difference_labor_force_participation_rate\":diff_lf_m_f,\n",
    "            \"labor_force_total_female\":total_female_lf,\n",
    "            \"literacy_rate_m\": lrm,\n",
    "            \"literacy_rate_f\":lrf,\n",
    "            \"life_expectancy_m\": lem,\n",
    "            \"life_expectancy_f\":lef,\n",
    "        }\n",
    "        data.append(d)\n",
    "\n",
    "    cleaned_df = pd.DataFrame(data)\n",
    "    return cleaned_df"
   ]
  },
  {
   "cell_type": "code",
   "execution_count": null,
   "metadata": {},
   "outputs": [],
   "source": [
    "cleaned_df_3 = load_data_3(mydb, cursor, db_name)"
   ]
  },
  {
   "cell_type": "markdown",
   "metadata": {},
   "source": [
    "##### Task 3.4"
   ]
  },
  {
   "cell_type": "markdown",
   "metadata": {},
   "source": [
    "Write a Python function `plot_data_3()` that visualizes the pairwise relationships between each factor and the difference in labor force participation rate.\n",
    "\n",
    "Your plots should be 2D scatter plots for each factor against the difference in labor force participation rate."
   ]
  },
  {
   "cell_type": "markdown",
   "metadata": {},
   "source": [
    "```python\n",
    "def plot_data_3(data):\n",
    "    \"\"\"\n",
    "    Visualize the pairwise relationships between each factor and the difference in labor force participation rate\n",
    "    IN: data, DataFrame, data of each country/territory\n",
    "    OUT: None\n",
    "    \"\"\"\n",
    "    pass\n",
    "```"
   ]
  },
  {
   "cell_type": "code",
   "execution_count": null,
   "metadata": {},
   "outputs": [],
   "source": [
    "def plot_data_3(data):\n",
    "    \"\"\"\n",
    "    Visualize the pairwise relationships between each factor and the difference in labor force participation rate\n",
    "    IN: data, DataFrame, data of each country/territory\n",
    "    OUT: None\n",
    "    \"\"\"\n",
    "    import matplotlib.pyplot as plt\n",
    "    import math\n",
    "    \n",
    "    # get param cols\n",
    "    params = [col for col in data.columns \n",
    "                     if col not in ['country_name', 'country_code', \n",
    "                                  'difference_labor_force_participation_rate']]\n",
    "    \n",
    "    #create enough plots for params\n",
    "    n_plots = len(params)\n",
    "    n_rows = math.ceil(n_plots / 2)  \n",
    "    \n",
    "    # gotta put figize pretty big or subplots get smuged\n",
    "    fig, axes = plt.subplots(n_rows, 2, figsize=(15, 5*n_rows))\n",
    "    fig.suptitle('Relationships between Factors and Difference in Labor Force Participation Rate', \n",
    "                fontsize=12, y=1)\n",
    "    \n",
    "    # flatten arr so iterating is ez\n",
    "    axes = axes.flatten()\n",
    "    \n",
    "    # create scatter plots with specific series as x \n",
    "    for i, predictor in enumerate(params):\n",
    "        ax = axes[i]\n",
    "        \n",
    "        # create scatter plot\n",
    "        ax.scatter(data[predictor], \n",
    "                  data['difference_labor_force_participation_rate'],\n",
    "                  alpha=0.5,\n",
    "                  )\n",
    "        \n",
    "        # add percents \n",
    "        ax.set_xlabel(predictor  + \" (%)\" if predictor in [\"labor_force_total_female\", \"literacy_rate_m\",\"literacy_rate_f\"] else predictor)\n",
    "        ax.set_ylabel('Difference in Labor Force Participation Rate' if i % 2 == 0 else '')\n",
    "        ax.set_title(f'{predictor} vs Difference in Labor Force Participation Rate')\n",
    "        \n",
    "    #get rid of plots not used\n",
    "    for i in range(n_plots, len(axes)):\n",
    "        fig.delaxes(axes[i])\n",
    "    \n",
    "    plt.tight_layout() # looks better\n",
    "    plt.show()"
   ]
  },
  {
   "cell_type": "code",
   "execution_count": null,
   "metadata": {},
   "outputs": [],
   "source": [
    "plot_data_3(cleaned_df_3)"
   ]
  },
  {
   "cell_type": "markdown",
   "metadata": {},
   "source": [
    "##### Task 3.5\n",
    "\n",
    "Write a Python function `compute_linear_regression_3()` that fits a high-dimensional hyperplane to model the relationship between all factors and the difference in labor force participation rate. Your function should return the slopes and intercept of the high-dimensional hyperplane.\n",
    "\n",
    "The high-dimensional hyperplane can be found by minimizing the sum of the squared differences between the observed and predicted values. The slopes and intercept can be calculated as follows:\n",
    "\n",
    "$$\n",
    "\\begin{bmatrix}\n",
    "\\text{intercept} \\\\\n",
    "\\text{slope}_1 \\\\\n",
    "\\text{slope}_2 \\\\\n",
    "\\vdots \\\\\n",
    "\\text{slope}_n \\\\\n",
    "\\end{bmatrix}\n",
    "=\n",
    "(X^T X)^{-1} X^T y\n",
    "\n",
    "$$\n",
    "where $X$ is a matrix of shape $(n, m+1)$ with the first column being all ones, and the remaining columns being the values of the factors, and $y$ is a vector of shape $(n,)$ with the difference in labor force participation rate."
   ]
  },
  {
   "cell_type": "markdown",
   "metadata": {},
   "source": [
    "```python\n",
    "def compute_linear_regression_3(data):\n",
    "    \"\"\"\n",
    "    Fit a high-dimensional hyperplane to model the relationship between all factors and the difference in labor force participation rate\n",
    "    IN: data, DataFrame, data of each country/territory\n",
    "    OUT: ndarray of shape (m+1,), (intercept, slope_1, slope_2, ..., slope_n)\n",
    "    \"\"\"\n",
    "    pass\n",
    "```"
   ]
  },
  {
   "cell_type": "code",
   "execution_count": null,
   "metadata": {},
   "outputs": [],
   "source": [
    "def compute_linear_regression_3(data):\n",
    "    \"\"\"\n",
    "    Fit a high-dimensional hyperplane to model the relationship between all factors and the difference in labor force participation rate\n",
    "    IN: data, DataFrame, data of each country/territory\n",
    "    OUT: ndarray of shape (m+1,), (intercept, slope_1, slope_2, ..., slope_n)\n",
    "    \"\"\"\n",
    "    pass\n",
    "    n = len(data)\n",
    "    #get each col\n",
    "    params = [data[col] for col in data.columns \n",
    "                if col not in ['country_name', 'country_code',  'difference_labor_force_participation_rate']\n",
    "             ]\n",
    "    #put the col of 1s in the beginning \n",
    "    params.insert(0,np.ones(n))\n",
    "    X = np.stack(params,axis=1)\n",
    "\n",
    "    y= data[\"difference_labor_force_participation_rate\"]\n",
    "    \n",
    "    intercept_slopen= np.matmul(np.linalg.inv(np.matmul(X.T,X)), np.matmul(X.T,y)) \n",
    "    return intercept_slopen"
   ]
  },
  {
   "cell_type": "code",
   "execution_count": null,
   "metadata": {},
   "outputs": [],
   "source": [
    "compute_linear_regression_3(cleaned_df_3)"
   ]
  },
  {
   "cell_type": "markdown",
   "metadata": {},
   "source": [
    "##### Task 3.6\n",
    "\n",
    "Similar to Task 1.7, write a Python function `get_determinant_3()` that returns the coefficient of determination of the linear regression hyperplane."
   ]
  },
  {
   "cell_type": "markdown",
   "metadata": {},
   "source": [
    "```python\n",
    "def get_determinant_3(data, regression_params):\n",
    "    \"\"\"\n",
    "    Return the coefficient of determination of the linear regression hyperplane\n",
    "    IN: data, DataFrame, data of each country/territory\n",
    "        regression_params, ndarray of shape (m+1,), (intercept, slope_1, slope_2, ..., slope_n)\n",
    "    OUT: float, coefficient of determination\n",
    "    \"\"\"\n",
    "    pass\n",
    "```"
   ]
  },
  {
   "cell_type": "code",
   "execution_count": null,
   "metadata": {},
   "outputs": [],
   "source": [
    "def get_determinant_3(data, regression_params):\n",
    "    \"\"\"\n",
    "    Return the coefficient of determination of the linear regression hyperplane\n",
    "    IN: data, DataFrame, data of each country/territory\n",
    "        regression_params, ndarray of shape (m+1,), (intercept, slope_1, slope_2, ..., slope_n)\n",
    "    OUT: float, coefficient of determination\n",
    "    \"\"\"\n",
    "    #real z values\n",
    "    z_obs = data[\"difference_labor_force_participation_rate\"]\n",
    "    #get correct cols\n",
    "    params = [data[col] for col in data.columns \n",
    "            if col not in ['country_name', 'country_code', 'difference_labor_force_participation_rate']\n",
    "         ]\n",
    "    #col of 1 4 intercept\n",
    "    params.insert(0, np.ones(len(data)))\n",
    "    #stack along y axis\n",
    "    X = np.stack(params,axis=1)\n",
    "    #dot product, get the same result by doing regression_params[1:] * x1,x2,x3... \n",
    "    z_pred = X @ regression_params\n",
    "    #calculate\n",
    "    ssr = np.sum((z_pred - np.mean(z_obs)) **2)\n",
    "    sst = np.sum((z_obs - np.mean(z_obs)) **2)\n",
    "    r2 = (ssr/sst)\n",
    "    return r2\n",
    "    "
   ]
  },
  {
   "cell_type": "code",
   "execution_count": null,
   "metadata": {},
   "outputs": [],
   "source": [
    "regression_params = compute_linear_regression_3(cleaned_df_3)\n",
    "get_determinant_3(cleaned_df_3, regression_params)"
   ]
  },
  {
   "cell_type": "markdown",
   "metadata": {},
   "source": [
    "##### Task 3.7\n",
    "\n",
    "Similar to Task 2.8, write a Python function `compare_determinants_3()` that compares the importance of each factor in explaining the difference in labor force participation rate using the coefficient of determination. Your function should return the factors in non-increasing order of importance."
   ]
  },
  {
   "cell_type": "markdown",
   "metadata": {},
   "source": [
    "```python\n",
    "def compare_determinants_3(data, regression_params):\n",
    "    \"\"\"\n",
    "    Determine the two most important factors in explaining the difference in labor force participation rate\n",
    "    IN: data, DataFrame, data of each country/territory\n",
    "        regression_params, ndarray of shape (m+1,), (intercept, slope_1, slope_2, ..., slope_n)\n",
    "    OUT: list of int, the indices of the orderings of the factors in non-increasing order of importance\n",
    "    \"\"\"\n",
    "```"
   ]
  },
  {
   "cell_type": "code",
   "execution_count": null,
   "metadata": {},
   "outputs": [],
   "source": [
    "def compare_determinants_3(data, regression_params):\n",
    "    \"\"\"\n",
    "    Determine the two most important factors in explaining the difference in labor force participation rate\n",
    "    IN: data, DataFrame, data of each country/territory\n",
    "        regression_params, ndarray of shape (m+1,), (intercept, slope_1, slope_2, ..., slope_n)\n",
    "    OUT: list of int, the indices of the orderings of the factors in non-increasing order of importance\n",
    "    \"\"\"\n",
    "   \n",
    "    # get the params from data\n",
    "    params = [(i,col) for i,col in enumerate(data.columns) if col not in ['country_name', 'country_code', 'difference_labor_force_participation_rate']]\n",
    "        \n",
    "    \n",
    "    full_model = get_determinant_3(data,regression_params)\n",
    "    \n",
    "    model_diff = sorted([(full_model - handle_single_determinant(data,param),i) for i,param in params],reverse=False,key=lambda x:x[0] )\n",
    " \n",
    "    return [i for _,i in model_diff]    \n",
    "\n",
    "\n"
   ]
  },
  {
   "cell_type": "code",
   "execution_count": null,
   "metadata": {},
   "outputs": [],
   "source": [
    "regression_params= compute_linear_regression_3(cleaned_df_3)\n",
    "compare_determinants_3(cleaned_df_3, regression_params)"
   ]
  },
  {
   "cell_type": "markdown",
   "metadata": {},
   "source": [
    "##### Task 3.8\n",
    "\n",
    "Take the most two important factors and write a Python function `plot_linear_regression_3()` that produces a 3D plot of the data and the linear regression plane using the two most important factors.\n",
    "\n",
    "- The x-axis should be the most important factor.\n",
    "- The y-axis should be the second most important factor\n",
    "- The z-axis should be the difference of the labor force participation rate."
   ]
  },
  {
   "cell_type": "markdown",
   "metadata": {},
   "source": [
    "```python\n",
    "def plot_linear_regression_3(data, regression_params, important_factors):\n",
    "    \"\"\"\n",
    "    Visualize the data as a 3D scatter plot along with the fitted linear regression plane\n",
    "    IN: data, DataFrame, data of each country/territory\n",
    "        regression_params, ndarray of shape (m+1,), (intercept, slope_1, slope_2, ..., slope_n)\n",
    "        important_factors, (int, int), the indices of the two most important factors\n",
    "    OUT: None\n",
    "    \"\"\"\n",
    "    pass\n",
    "```"
   ]
  },
  {
   "cell_type": "code",
   "execution_count": null,
   "metadata": {},
   "outputs": [],
   "source": [
    "def plot_linear_regression_3(data, regression_params, important_factors):\n",
    "    \"\"\"\n",
    "    Visualize the data as a 3D scatter plot along with the fitted linear regression plane\n",
    "    IN: data, DataFrame, data of each country/territory\n",
    "        regression_params, ndarray of shape (m+1,), (intercept, slope_1, slope_2, ..., slope_n)\n",
    "        important_factors, (int, int), the indices of the two most important factors\n",
    "    OUT: None\n",
    "    \"\"\" \n",
    "\n",
    "    #get 2 most important factor indicies\n",
    "    index0,index1 = important_factors[:2]\n",
    "    #get col names\n",
    "    col0_name = data.columns[index0]\n",
    "    col1_name = data.columns[index1]\n",
    "\n",
    "    #grab series\n",
    "    x = data[col0_name]\n",
    "    y= data[col1_name]\n",
    "    z = data[\"difference_labor_force_participation_rate\"]\n",
    "\n",
    "    #calcuate slope & intercept\n",
    "    intercept,slope_x,slope_y = compute_linear_regression_2(data,(col0_name,col1_name))\n",
    "\n",
    "    x_grid,y_grid = np.meshgrid(np.linspace(x.max(),x.min()),np.linspace(y.max(),y.min(),100))\n",
    "\n",
    "    z_line =intercept + slope_x * x_grid + slope_y * y_grid \n",
    "    \n",
    "\n",
    "    #set up plot\n",
    "    fig = plt.figure(figsize=(10,8))\n",
    "    ax = fig.add_subplot(111, projection='3d')\n",
    "    ax.scatter(x,y,z,alpha=1)\n",
    "    #plot plane\n",
    "    ax.plot_surface(X=x_grid,Y=y_grid,Z=z_line,alpha=0.5,color=\"red\")\n",
    "\n",
    "    #labels\n",
    "    ax.set_xlabel(data.columns[index0])\n",
    "    ax.set_ylabel(data.columns[index1])\n",
    "    \n",
    "    #set lim so plane doesnt extend beyond possible values\n",
    "    ax.set_xlim([x.min(), x.max()])\n",
    "    ax.set_ylim([y.min(), y.max()])\n",
    "    #ax.set_zlim([z.min(), z.max()])\n",
    "    ax.view_init(azim=90)\n",
    "    ax.set_zlabel('Difference of labor force participation rate')\n",
    "\n",
    "\n",
    "\n"
   ]
  },
  {
   "cell_type": "code",
   "execution_count": null,
   "metadata": {},
   "outputs": [],
   "source": [
    "important_factors = compare_determinants_3(cleaned_df_3, regression_params)\n",
    "plot_linear_regression_3(cleaned_df_3, regression_params, important_factors)"
   ]
  },
  {
   "cell_type": "code",
   "execution_count": null,
   "metadata": {},
   "outputs": [],
   "source": [
    "#UI helper\n",
    "\n",
    "def test_model(button_id,input):\n",
    "    '''\n",
    "    IN:\n",
    "        button_id: int, index of the param model user clicked on\n",
    "        inputs: inputs for each param\n",
    "    OUT:\n",
    "        (int) predicted value for that model\n",
    "    '''\n",
    "\n",
    "    #assertions\n",
    "    assert type(button_id) is int\n",
    "    assert type(input) is (list)\n",
    "\n",
    "    #matching model to button id then predicting based off regression params y=mx+b for single, dot product for multiple params\n",
    "    match button_id:\n",
    "        case 0:\n",
    "            input = input[0]\n",
    "            intercept, slope = compute_linear_regression_1(cleaned_df)\n",
    "            return  ((input*slope)+intercept) \n",
    "        case 1:\n",
    "            regression_params = compute_linear_regression_2(cleaned_df)\n",
    "            input.insert(0,1)\n",
    "            input = np.array(input)\n",
    "            return (input @ regression_params)\n",
    "        case 2:\n",
    "            regression_params = compute_linear_regression_3(cleaned_df_3)\n",
    "            input.insert(0,1)\n",
    "            input = np.array(input)\n",
    "            return (input @ regression_params)\n",
    "        case 3:\n",
    "            input.insert(0,1)\n",
    "            input = np.array(input)\n",
    "            regression_params = compute_linear_regression_2(cleaned_df_3,(\"labor_force_total_female\",\"life_expectancy_m\"))\n",
    "            return (input @ regression_params)\n",
    "        case _:\n",
    "            raise Error(\"sum went wrong.\")\n",
    "    \n"
   ]
  },
  {
   "cell_type": "code",
   "execution_count": null,
   "metadata": {},
   "outputs": [],
   "source": [
    "#WARNING: ui is a bit buggy, make sure to terminate the tk tab rather stopping the process in jupyter, causes py kernel to crash...\n",
    "# allows it to be launched in jupyter env\n",
    "%gui tk\n",
    "\n",
    "inputs = {\"button\":None}\n",
    "\n",
    "def show_inputs(button_id):\n",
    "    global inputs\n",
    "    \n",
    "    #reset the result everytime a button is clicked\n",
    "    result_label.config(text=f\"Result:\")\n",
    "\n",
    "    #when they click on a new button for a different model get rid of the other widgets packed into the main app\n",
    "    for widget in input_frame.winfo_children():\n",
    "        widget.destroy()\n",
    "\n",
    "    #single gdp model\n",
    "    if button_id == 0:\n",
    "        inputs = {\"button\":button_id,\"inputs\":[]}\n",
    "        tk.Label(input_frame, text=\"gdp\").pack()\n",
    "        entry = tk.Entry(input_frame)\n",
    "        entry.pack()\n",
    "        #gna store all the inputs inside of input[\"inputs\"]\n",
    "        inputs[\"inputs\"].append(entry)\n",
    "    #dual paramter gdp,year model\n",
    "    elif button_id == 1:\n",
    "        inputs = {\"button\":button_id,\"inputs\":[]}\n",
    "        tk.Label(input_frame, text=\"gdp,year\").pack()\n",
    "        for _ in range(2):\n",
    "            entry = tk.Entry(input_frame)\n",
    "            entry.pack()\n",
    "            inputs[\"inputs\"].append(entry)\n",
    "    #full seven param model\n",
    "    elif button_id == 2:\n",
    "        inputs = {\"button\":button_id,\"inputs\":[]}\n",
    "        tk.Label(input_frame, text=\"gdp, year, labor force total female (rate), literacy rate male (rate), literacy rate female, (rate) life expectancy male (years), life expectancy female (years)\").pack()\n",
    "        for _ in range(7):\n",
    "            entry = tk.Entry(input_frame)\n",
    "            entry.pack()\n",
    "            inputs[\"inputs\"].append(entry)\n",
    "    #most important factor model\n",
    "    elif button_id == 3:\n",
    "        inputs = {\"button\":button_id,\"inputs\":[]}\n",
    "        tk.Label(input_frame, text=\"labor force total female (ex:44 for 44%), life expectancy male (years)\").pack()\n",
    "        for _ in range(2):\n",
    "            entry = tk.Entry(input_frame)\n",
    "            entry.pack()\n",
    "            inputs[\"inputs\"].append(entry)\n",
    "           \n",
    "\n",
    "def handle_submit():\n",
    "\n",
    "    #find out which function were gna use based off the button id stored in inputs\n",
    "    button_id = inputs[\"button\"]\n",
    "    try:\n",
    "        # get values user input and compute prediction\n",
    "        values = [float(entry.get()) for entry in list(inputs[\"inputs\"])]\n",
    "        result = test_model(button_id,values)\n",
    "        result_label.config(text=f\"Result: {result} is the difference in labor force participation rates\")\n",
    "    except:\n",
    "        result = \"please insert an int or float\"\n",
    "        result_label.config(text=f\"Result: {result}\")\n",
    "\n",
    "\n",
    "# window\n",
    "app = tk.Tk()\n",
    "app.title(\"linear regression\")\n",
    "\n",
    "# frame for the buttons\n",
    "button_frame = tk.Frame(app)\n",
    "button_frame.pack(pady=10)\n",
    "\n",
    "# make buttons based off index, will help in handling function logic\n",
    "button_names = [\"one param model (gdp)\", \"two param model (gdp,year)\", \"seven param model\", \"two param model (most important)\"]\n",
    "for i in range(0, 4):\n",
    "    tk.Button(button_frame, text=f\"{button_names[i]}\", command=lambda i=i: show_inputs(i)).pack()\n",
    "\n",
    "# frame for inputs\n",
    "input_frame = tk.Frame(app)\n",
    "input_frame.pack(pady=10)\n",
    "\n",
    "\n",
    "\n",
    "#submit, dont know how to make it not show until all fields are filled\n",
    "submit_button = tk.Button(app, text=\"submit\", command=handle_submit)\n",
    "submit_button.pack()\n",
    "\n",
    "\n",
    "result_frame = tk.Frame(app)\n",
    "result_frame.pack()\n",
    "result_label = tk.Label(result_frame, text=\"choose a model and enter param values\")\n",
    "result_label.pack()\n",
    "\n",
    "\n",
    "app.mainloop()\n"
   ]
  },
  {
   "cell_type": "code",
   "execution_count": null,
   "metadata": {},
   "outputs": [],
   "source": [
    "#close all plots since were using interactive & close cursor/db connection\n",
    "plt.close(\"all\")\n",
    "cursor.close()\n",
    "mydb.close()"
   ]
  },
  {
   "cell_type": "markdown",
   "metadata": {},
   "source": [
    "### References"
   ]
  },
  {
   "cell_type": "markdown",
   "metadata": {},
   "source": [
    "> - Rencher, Alvin C.; Christensen, William F. (2012), \"Chapter 10, Multivariate regression – Section 10.1, Introduction\", Methods of Multivariate Analysis, Wiley Series in Probability and Statistics, vol. 709 (3rd ed.), John Wiley & Sons, p. 19, ISBN 9781118391679"
   ]
  }
 ],
 "metadata": {
  "kernelspec": {
   "display_name": "usr",
   "language": "python",
   "name": "python3"
  },
  "language_info": {
   "codemirror_mode": {
    "name": "ipython",
    "version": 3
   },
   "file_extension": ".py",
   "mimetype": "text/x-python",
   "name": "python",
   "nbconvert_exporter": "python",
   "pygments_lexer": "ipython3",
   "version": "3.12.7"
  }
 },
 "nbformat": 4,
 "nbformat_minor": 2
}
